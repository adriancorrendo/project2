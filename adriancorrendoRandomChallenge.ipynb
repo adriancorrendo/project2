{
 "cells": [
  {
   "cell_type": "code",
   "execution_count": 1,
   "metadata": {},
   "outputs": [],
   "source": [
    "import glob\n",
    "glob.os.chdir('C:/Users/correndo/Desktop/Coding/introcoding-spring-2019/Datasets/')"
   ]
  },
  {
   "cell_type": "code",
   "execution_count": 5,
   "metadata": {},
   "outputs": [
    {
     "name": "stdout",
     "output_type": "stream",
     "text": [
      "['Albert Einstein' 'Werner Heisenberg' 'Marie Curie' 'Guglielmo Marconi'\n",
      " 'Peter Higgs' 'Ernest Lawrence' 'Paul Dirac' 'Lord Rayleigh'\n",
      " 'Antoine Henri Becquerel' 'Wilhelm Conrad Röntgen' 'Hendrik Lorentz'\n",
      " 'Max Planck' 'Niels Bohr' 'Gustav Hertz' 'Erwin Schrödinger'\n",
      " 'Enrico Fermi' 'Hideki Yukawa' 'Richard Phillips Feynman']\n"
     ]
    }
   ],
   "source": [
    "import pandas as pd\n",
    "names = pd.read_csv('nobel_physics.txt', header=None, sep=',')\n",
    "names_list = names[0].values\n",
    "print(names_list)"
   ]
  },
  {
   "cell_type": "code",
   "execution_count": 19,
   "metadata": {},
   "outputs": [],
   "source": [
    "import random"
   ]
  },
  {
   "cell_type": "code",
   "execution_count": 20,
   "metadata": {},
   "outputs": [
    {
     "name": "stdout",
     "output_type": "stream",
     "text": [
      "Group 1: Paul Dirac\n",
      "Group 1: Ernest Lawrence\n",
      "Group 1: Marie Curie\n",
      "Group 1: Wilhelm Conrad Röntgen\n",
      "Group 2: Erwin Schrödinger\n",
      "Group 2: Werner Heisenberg\n",
      "Group 2: Richard Phillips Feynman\n",
      "Group 2: Paul Dirac\n",
      "Group 3: Guglielmo Marconi\n",
      "Group 3: Niels Bohr\n",
      "Group 3: Gustav Hertz\n",
      "Group 3: Antoine Henri Becquerel\n"
     ]
    }
   ],
   "source": [
    "n_groups = 3\n",
    "k_members = 4\n",
    "if (k_members*n_groups) > len(names_list):\n",
    "    print(\"Not working because there are fwere people than requested\")\n",
    "elif (k_members == 0) | (n_groups == 0):\n",
    "    print(\"Not working because k=0 and/or n=0\")\n",
    "else:\n",
    "     for i in range(0, n_groups):\n",
    "        for j in random.sample(names_list, k=k_members):\n",
    "            print('Group ' + str(i+1) + ': ' + str(j))"
   ]
  },
  {
   "cell_type": "code",
   "execution_count": null,
   "metadata": {},
   "outputs": [],
   "source": [
    "# option\n",
    "names_list = open('nobel_physics.txt').read().split('\\n')"
   ]
  },
  {
   "cell_type": "code",
   "execution_count": 23,
   "metadata": {},
   "outputs": [
    {
     "name": "stdout",
     "output_type": "stream",
     "text": [
      "Group 1: Gustav Hertz\n",
      "Group 1: Peter Higgs\n",
      "Group 1: Albert Einstein\n",
      "Group 1: Max Planck\n",
      "Group 2: Richard Phillips Feynman\n",
      "Group 2: Ernest Lawrence\n",
      "Group 2: Hendrik Lorentz\n",
      "Group 2: Enrico Fermi\n",
      "Group 3: Paul Dirac\n",
      "Group 3: Lord Rayleigh\n",
      "Group 3: Niels Bohr\n",
      "Group 3: Marie Curie\n"
     ]
    }
   ],
   "source": [
    "for i in range(0,n_groups):\n",
    "    for j in range(0, k_members):\n",
    "        rand_index = random.randint(0,len(names_list)-1)\n",
    "        rand_person = names_list[rand_index].split(',')[0]\n",
    "        print('Group ' + str(i+1) + ': ' + rand_person)\n",
    "        names_list.pop(rand_index)"
   ]
  },
  {
   "cell_type": "code",
   "execution_count": null,
   "metadata": {},
   "outputs": [],
   "source": []
  },
  {
   "cell_type": "code",
   "execution_count": null,
   "metadata": {},
   "outputs": [],
   "source": []
  }
 ],
 "metadata": {
  "kernelspec": {
   "display_name": "Python 3",
   "language": "python",
   "name": "python3"
  },
  "language_info": {
   "codemirror_mode": {
    "name": "ipython",
    "version": 3
   },
   "file_extension": ".py",
   "mimetype": "text/x-python",
   "name": "python",
   "nbconvert_exporter": "python",
   "pygments_lexer": "ipython3",
   "version": "3.7.1"
  }
 },
 "nbformat": 4,
 "nbformat_minor": 2
}
