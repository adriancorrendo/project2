{
 "cells": [
  {
   "cell_type": "markdown",
   "metadata": {},
   "source": [
    "# For Loops"
   ]
  },
  {
   "cell_type": "code",
   "execution_count": 1,
   "metadata": {},
   "outputs": [
    {
     "name": "stdout",
     "output_type": "stream",
     "text": [
      "0\n",
      "1\n",
      "2\n"
     ]
    }
   ],
   "source": [
    "for i in range(0,3):\n",
    "    print(i)"
   ]
  },
  {
   "cell_type": "code",
   "execution_count": 2,
   "metadata": {},
   "outputs": [
    {
     "name": "stdout",
     "output_type": "stream",
     "text": [
      "[0, 1, 2]\n"
     ]
    }
   ],
   "source": [
    "print(list(range(0,3)))"
   ]
  },
  {
   "cell_type": "code",
   "execution_count": 3,
   "metadata": {},
   "outputs": [
    {
     "name": "stdout",
     "output_type": "stream",
     "text": [
      "Mollisols\n",
      "Entisols\n",
      "Alfisols\n"
     ]
    }
   ],
   "source": [
    "soils = [\"Mollisols\", \"Entisols\", \"Alfisols\"]\n",
    "for i in soils:\n",
    "    print(i)"
   ]
  },
  {
   "cell_type": "code",
   "execution_count": 4,
   "metadata": {},
   "outputs": [
    {
     "name": "stdout",
     "output_type": "stream",
     "text": [
      "Mollisols\n",
      "Entisols\n",
      "Alfisols\n"
     ]
    }
   ],
   "source": [
    "for order in soils:\n",
    "    print(order)"
   ]
  },
  {
   "cell_type": "code",
   "execution_count": 7,
   "metadata": {},
   "outputs": [
    {
     "name": "stdout",
     "output_type": "stream",
     "text": [
      "0\n",
      "1\n",
      "4\n"
     ]
    }
   ],
   "source": [
    "for k in range(0,3):\n",
    "    sq = k**2\n",
    "    print(sq)"
   ]
  },
  {
   "cell_type": "code",
   "execution_count": 8,
   "metadata": {},
   "outputs": [
    {
     "ename": "SyntaxError",
     "evalue": "invalid syntax (<ipython-input-8-a6925689eae1>, line 4)",
     "output_type": "error",
     "traceback": [
      "\u001b[1;36m  File \u001b[1;32m\"<ipython-input-8-a6925689eae1>\"\u001b[1;36m, line \u001b[1;32m4\u001b[0m\n\u001b[1;33m    new_value = datetime.datetime(data[,1,1])\u001b[0m\n\u001b[1;37m                                       ^\u001b[0m\n\u001b[1;31mSyntaxError\u001b[0m\u001b[1;31m:\u001b[0m invalid syntax\n"
     ]
    }
   ],
   "source": [
    "# data = load *.csv\n",
    "# data[row,i]\n",
    "for i in range(0, len(data)):\n",
    "    new_value = datetime.datetime(data[,1,1])\n",
    "    print(new_value)"
   ]
  },
  {
   "cell_type": "code",
   "execution_count": 10,
   "metadata": {},
   "outputs": [
    {
     "name": "stdout",
     "output_type": "stream",
     "text": [
      "1b\n",
      "1a\n",
      "1c\n",
      "2b\n",
      "2a\n",
      "2c\n",
      "3b\n",
      "3a\n",
      "3c\n"
     ]
    }
   ],
   "source": [
    "# the last number of a range is not included\n",
    "plot = range(1,4)\n",
    "rep = ['b', 'a', 'c']\n",
    "for i in plot:\n",
    "    for j in rep:\n",
    "        print(str(i) + j)"
   ]
  },
  {
   "cell_type": "code",
   "execution_count": 11,
   "metadata": {},
   "outputs": [
    {
     "name": "stdout",
     "output_type": "stream",
     "text": [
      "[1, 2, 3]\n"
     ]
    }
   ],
   "source": [
    "print(list(range(1,4)))"
   ]
  },
  {
   "cell_type": "code",
   "execution_count": 16,
   "metadata": {},
   "outputs": [],
   "source": [
    "import glob\n",
    "glob.os.chdir(\"/Users/correndo/Desktop/Coding/introcoding-spring-2019/Datasets\")"
   ]
  },
  {
   "cell_type": "code",
   "execution_count": 24,
   "metadata": {},
   "outputs": [
    {
     "name": "stdout",
     "output_type": "stream",
     "text": [
      "C:\\Users\\correndo\\Desktop\\Coding\\introcoding-spring-2019\\Datasets\n"
     ]
    }
   ],
   "source": [
    "print(glob.os.getcwd())"
   ]
  },
  {
   "cell_type": "code",
   "execution_count": 25,
   "metadata": {},
   "outputs": [
    {
     "name": "stdout",
     "output_type": "stream",
     "text": [
      "ch1_down_the_rabbit_hole.txt\n",
      "dna_sequence.txt\n",
      "jabberwocky_lewis_carroll.txt\n"
     ]
    }
   ],
   "source": [
    "for file in glob.glob(\"*.txt\"):\n",
    "    print(file)"
   ]
  },
  {
   "cell_type": "code",
   "execution_count": 26,
   "metadata": {},
   "outputs": [
    {
     "name": "stdout",
     "output_type": "stream",
     "text": [
      "ch1_down_the_rabbit_hole.txt\n",
      "corn_allometric_biomass.csv\n",
      "dna_sequence.txt\n",
      "fargo_hourly_deep_soil_temperature.csv\n",
      "global_wheat.csv\n",
      "gypsum_daily_2018.csv\n",
      "gypsum_hourly.csv\n",
      "jabberwocky_lewis_carroll.txt\n",
      "mauna_loa_co2.csv\n",
      "population_area_and_density.csv\n",
      "tribune_daily_historical.csv\n",
      "wheat.jpg\n",
      "world_wheat.csv\n"
     ]
    }
   ],
   "source": [
    "for file in glob.glob(\"*.*\"):\n",
    "    print(file)"
   ]
  },
  {
   "cell_type": "code",
   "execution_count": 27,
   "metadata": {},
   "outputs": [
    {
     "data": {
      "text/plain": [
       "['.ipynb_checkpoints',\n",
       " 'ch1_down_the_rabbit_hole.txt',\n",
       " 'corn_allometric_biomass.csv',\n",
       " 'dna_sequence.txt',\n",
       " 'fargo_hourly_deep_soil_temperature.csv',\n",
       " 'global_wheat.csv',\n",
       " 'gypsum_daily_2018.csv',\n",
       " 'gypsum_hourly.csv',\n",
       " 'jabberwocky_lewis_carroll.txt',\n",
       " 'mauna_loa_co2.csv',\n",
       " 'population_area_and_density.csv',\n",
       " 'tribune_daily_historical.csv',\n",
       " 'wheat.jpg',\n",
       " 'world_wheat.csv']"
      ]
     },
     "execution_count": 27,
     "metadata": {},
     "output_type": "execute_result"
    }
   ],
   "source": [
    "glob.os.listdir()"
   ]
  },
  {
   "cell_type": "code",
   "execution_count": 32,
   "metadata": {},
   "outputs": [
    {
     "name": "stdout",
     "output_type": "stream",
     "text": [
      "[200, 180, 162, 158, 167, 150, 135, 122, 140, 126, 113, 102, 92, 83, 75]\n"
     ]
    }
   ],
   "source": [
    "soil_moisture = [200]\n",
    "rainfall = [0,0,0,12,25,0,0,0,30,0,0,0,0,0,0]\n",
    "alpha = 0.9\n",
    "for i in range(1,len(rainfall)):\n",
    "    new_soil_moisture = round(soil_moisture[i-1]*alpha + rainfall[i])\n",
    "    soil_moisture.append(new_soil_moisture)\n",
    "print(soil_moisture)"
   ]
  },
  {
   "cell_type": "code",
   "execution_count": null,
   "metadata": {},
   "outputs": [],
   "source": []
  }
 ],
 "metadata": {
  "kernelspec": {
   "display_name": "Python 3",
   "language": "python",
   "name": "python3"
  },
  "language_info": {
   "codemirror_mode": {
    "name": "ipython",
    "version": 3
   },
   "file_extension": ".py",
   "mimetype": "text/x-python",
   "name": "python",
   "nbconvert_exporter": "python",
   "pygments_lexer": "ipython3",
   "version": "3.7.1"
  }
 },
 "nbformat": 4,
 "nbformat_minor": 2
}
