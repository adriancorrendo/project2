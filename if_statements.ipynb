{
 "cells": [
  {
   "cell_type": "code",
   "execution_count": 2,
   "metadata": {},
   "outputs": [
    {
     "name": "stdout",
     "output_type": "stream",
     "text": [
      "This is my favorite number\n"
     ]
    }
   ],
   "source": [
    "# The second = sign indicates the conditional of equality\n",
    "value = 8\n",
    "if value == 8:\n",
    "    print('This is my favorite number')"
   ]
  },
  {
   "cell_type": "code",
   "execution_count": 6,
   "metadata": {},
   "outputs": [
    {
     "name": "stdout",
     "output_type": "stream",
     "text": [
      "This is my favorite number\n"
     ]
    }
   ],
   "source": [
    "value = '8'\n",
    "if value == '8':\n",
    "    print('This is my favorite number')"
   ]
  },
  {
   "cell_type": "code",
   "execution_count": 8,
   "metadata": {},
   "outputs": [
    {
     "name": "stdout",
     "output_type": "stream",
     "text": [
      "This is my favorite number\n"
     ]
    }
   ],
   "source": [
    "value = 5\n",
    "if value <= 8:\n",
    "    print('This is my favorite number')"
   ]
  },
  {
   "cell_type": "code",
   "execution_count": 11,
   "metadata": {},
   "outputs": [
    {
     "name": "stdout",
     "output_type": "stream",
     "text": [
      "This is NOT my favorite number\n"
     ]
    }
   ],
   "source": [
    "value = 5\n",
    "if value == 8:\n",
    "    print('This IS my favorite number')\n",
    "else:\n",
    "    print('This is NOT my favorite number')"
   ]
  },
  {
   "cell_type": "code",
   "execution_count": 18,
   "metadata": {},
   "outputs": [
    {
     "name": "stdout",
     "output_type": "stream",
     "text": [
      "It's EVEN\n"
     ]
    }
   ],
   "source": [
    "value = 8\n",
    "if value % 2 == 0:\n",
    "    print(\"It's EVEN\")\n",
    "else:\n",
    "    print(\"It's ODD\")"
   ]
  },
  {
   "cell_type": "code",
   "execution_count": 37,
   "metadata": {},
   "outputs": [
    {
     "name": "stdout",
     "output_type": "stream",
     "text": [
      "Optimal\n"
     ]
    }
   ],
   "source": [
    "# WORKING FINE\n",
    "value = 8\n",
    "\n",
    "if value >= 10:\n",
    "    print(\"High\")\n",
    "    \n",
    "elif value >= 8 & value < 10:\n",
    "    print(\"Optimal\")\n",
    "    \n",
    "elif value >= 5 & value < 8:\n",
    "    print(\"Low\")\n",
    "    \n",
    "else:\n",
    "    print(\"Very Low\")"
   ]
  },
  {
   "cell_type": "code",
   "execution_count": 41,
   "metadata": {},
   "outputs": [
    {
     "name": "stdout",
     "output_type": "stream",
     "text": [
      "Very Low\n"
     ]
    }
   ],
   "source": [
    "# WORKING WRONG\n",
    "value = 8\n",
    "\n",
    "if value >= 10:\n",
    "    print(\"High\")\n",
    "    \n",
    "elif value < 10 & value >= 8:\n",
    "    print(\"Optimal\")\n",
    "    \n",
    "elif value < 8 & value >= 5:\n",
    "    print(\"Low\")\n",
    "    \n",
    "else:\n",
    "    print(\"Very Low\")"
   ]
  },
  {
   "cell_type": "code",
   "execution_count": 33,
   "metadata": {},
   "outputs": [
    {
     "name": "stdout",
     "output_type": "stream",
     "text": [
      "8\n"
     ]
    }
   ],
   "source": [
    "crop = 'corn'\n",
    "\n",
    "if crop == 'corn':\n",
    "    Tbase = 8 # Celsius\n",
    "    print(Tbase)\n",
    "elif crop == 'wheat':\n",
    "    Tbase = 0\n",
    "    print(Tbase)\n",
    "else:\n",
    "    print(\"Crop not found. Options are corn or wheat\")"
   ]
  },
  {
   "cell_type": "code",
   "execution_count": 39,
   "metadata": {},
   "outputs": [
    {
     "name": "stdout",
     "output_type": "stream",
     "text": [
      "True\n"
     ]
    }
   ],
   "source": [
    "value = 3\n",
    "print(value >1 & value <5)"
   ]
  },
  {
   "cell_type": "code",
   "execution_count": 40,
   "metadata": {},
   "outputs": [
    {
     "name": "stdout",
     "output_type": "stream",
     "text": [
      "Number 0 is EVEN\n",
      "Number 1 is ODD\n",
      "Number 2 is EVEN\n",
      "Number 3 is ODD\n",
      "Number 4 is EVEN\n",
      "Number 5 is ODD\n",
      "Number 6 is EVEN\n",
      "Number 7 is ODD\n",
      "Number 8 is EVEN\n",
      "Number 9 is ODD\n"
     ]
    }
   ],
   "source": [
    "for value in range(0,10):\n",
    "    if value % 2 == 0:\n",
    "        print(\"Number\", value, \"is EVEN\")\n",
    "    else:\n",
    "        print(\"Number\", value, \"is ODD\")"
   ]
  },
  {
   "cell_type": "code",
   "execution_count": null,
   "metadata": {},
   "outputs": [],
   "source": []
  }
 ],
 "metadata": {
  "kernelspec": {
   "display_name": "Python 3",
   "language": "python",
   "name": "python3"
  },
  "language_info": {
   "codemirror_mode": {
    "name": "ipython",
    "version": 3
   },
   "file_extension": ".py",
   "mimetype": "text/x-python",
   "name": "python",
   "nbconvert_exporter": "python",
   "pygments_lexer": "ipython3",
   "version": "3.7.1"
  }
 },
 "nbformat": 4,
 "nbformat_minor": 2
}
