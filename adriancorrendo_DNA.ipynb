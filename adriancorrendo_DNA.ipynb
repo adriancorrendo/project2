{
 "cells": [
  {
   "cell_type": "code",
   "execution_count": 77,
   "metadata": {},
   "outputs": [],
   "source": [
    "import glob\n",
    "import math"
   ]
  },
  {
   "cell_type": "code",
   "execution_count": 83,
   "metadata": {},
   "outputs": [
    {
     "name": "stdout",
     "output_type": "stream",
     "text": [
      "<class 'str'>\n"
     ]
    }
   ],
   "source": [
    "glob.os.chdir('C:/Users/correndo/Desktop/Coding/introcoding-spring-2019/Datasets/')\n",
    "dnafile = open('dna_sequence.txt').read().split('\\n')[8:]# To ommit header lines and work only with the DNA code\n",
    "dna = ''.join(dnafile) # \"dnafile\" is list, we need to convert it into a single string prior to proceed with the matching\n",
    "print(type(dna)) #For checking if object is now a string"
   ]
  },
  {
   "cell_type": "code",
   "execution_count": 98,
   "metadata": {},
   "outputs": [
    {
     "name": "stdout",
     "output_type": "stream",
     "text": [
      "All bases are known, matching nucleotides...\n"
     ]
    }
   ],
   "source": [
    "if \"U\" in dna:\n",
    "    print(\"Unknown base found: U. Check DNA nucleotides before matching\")\n",
    "else:\n",
    "    print(\"All bases are known, matching nucleotides...\")\n",
    "    def dnamatching(dna):\n",
    "        \"\"\"Function that decodes the matching strand of a DNA sequence for Saccharomyces cerevisiae.\n",
    "        Created by Adrian Correndo on 25-feb-2019\"\"\"\n",
    "        pairs = []\n",
    "        for i in dna:\n",
    "            if i == 'A':\n",
    "                pairs.append('T')\n",
    "            if i == 'T':\n",
    "                pairs.append('A')\n",
    "            if i == 'C':\n",
    "                pairs.append('C')\n",
    "            if i == 'C':\n",
    "                pairs.append('G')\n",
    "        return ''.join(pairs) #To join all the bases into a single string, otherwise it returns just a list of nucleotides"
   ]
  },
  {
   "cell_type": "code",
   "execution_count": 100,
   "metadata": {},
   "outputs": [
    {
     "name": "stdout",
     "output_type": "stream",
     "text": [
      "<class 'str'>\n"
     ]
    }
   ],
   "source": [
    "dna_matching_strand = dnamatching(dna)\n",
    "print(type(dna_matching_strand))"
   ]
  },
  {
   "cell_type": "code",
   "execution_count": null,
   "metadata": {},
   "outputs": [],
   "source": []
  }
 ],
 "metadata": {
  "kernelspec": {
   "display_name": "Python 3",
   "language": "python",
   "name": "python3"
  },
  "language_info": {
   "codemirror_mode": {
    "name": "ipython",
    "version": 3
   },
   "file_extension": ".py",
   "mimetype": "text/x-python",
   "name": "python",
   "nbconvert_exporter": "python",
   "pygments_lexer": "ipython3",
   "version": "3.7.1"
  }
 },
 "nbformat": 4,
 "nbformat_minor": 2
}
